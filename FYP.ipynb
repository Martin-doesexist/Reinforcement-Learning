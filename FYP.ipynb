{
 "cells": [
  {
   "cell_type": "code",
   "execution_count": 1,
   "id": "ec106bab",
   "metadata": {},
   "outputs": [
    {
     "name": "stdout",
     "output_type": "stream",
     "text": [
      "Init Plugin\n",
      "Init Graph Optimizer\n",
      "Init Kernel\n"
     ]
    }
   ],
   "source": [
    "%matplotlib inline\n",
    "%config IPCompleter.greedy=True\n",
    "\n",
    "# What versions\n",
    "import sys\n",
    "\n",
    "import pandas as pd\n",
    "import sklearn as sk\n",
    "import tensorflow as tf\n",
    "from tensorflow import keras\n",
    "from sklearn.preprocessing import MinMaxScaler\n",
    "\n",
    "import os\n",
    "import matplotlib.pyplot as plt\n",
    "import datetime as dt\n",
    "import collections\n",
    "import numpy as np"
   ]
  },
  {
   "cell_type": "markdown",
   "id": "668b11a8",
   "metadata": {},
   "source": [
    "<font size=\"9\">P&nbsp;R&nbsp;E&nbsp;P&nbsp;A&nbsp;R&nbsp;I&nbsp;N&nbsp;G&ensp; D&nbsp;A&nbsp;T&nbsp;A</font>"
   ]
  },
  {
   "cell_type": "code",
   "execution_count": 2,
   "id": "3f5a30c3",
   "metadata": {},
   "outputs": [],
   "source": [
    "#--------------------------- preparing path for source files ---------------------------\n",
    "\n",
    "data_path = \"/Users/realmartt/4 F O U R/Final Sem/Final Year Project/pythonProject/s_a\"\n",
    "file_name = \"600070.SH.CSV\""
   ]
  },
  {
   "cell_type": "code",
   "execution_count": 3,
   "id": "cd37786f",
   "metadata": {},
   "outputs": [],
   "source": [
    "#--------------------------- load data, trim data & view data ---------------------------\n",
    "\n",
    "#load the file into pandas dataframe\n",
    "def load_data(data_path=data_path, file_name=file_name):\n",
    "    path = os.path.join(data_path, file_name)\n",
    "    return pd.read_csv(path, encoding = 'gb2312')\n",
    "  \n",
    "\n",
    "#drop useless data and set 'Date' as index\n",
    "def altering(df):\n",
    "    \n",
    "    #convert the headers to English\n",
    "    dict = {'代码': 'Code',\n",
    "            '简称': 'Name',\n",
    "            '日期': 'Date',\n",
    "            '前收盘价(元)': 'Forward_Close',\n",
    "            '开盘价(元)': 'Open',\n",
    "            '最高价(元)': 'High',\n",
    "            '最低价(元)': 'Low',\n",
    "            '收盘价(元)': 'Close',\n",
    "            '成交量(股)': 'Volume',\n",
    "            '成交金额(元)': 'Volume In Price',\n",
    "            '涨跌(元)': 'Change In Price',\n",
    "            '涨跌幅(%)': 'Change',\n",
    "            '均价(元)': 'Avg Price',\n",
    "            '换手率(%)': 'Turnover Rate',\n",
    "            'A股流通市值(元)': 'Value A',\n",
    "            'B股流通市值(元)': 'Value B',\n",
    "            '总市值(元)': 'Tol Value',\n",
    "            'A股流通股本(股)': 'Shares A',\n",
    "            'B股流通股本(股)': 'Shares B',\n",
    "            '总股本(股)': 'Tol Shares',\n",
    "            '市盈率': 'P/E Ratio',\n",
    "            '市净率': 'P/B Ratio',\n",
    "            '市销率': 'P/S Ratio',\n",
    "            '市现率': 'P/CF Ratio'}\n",
    "    df.rename(columns=dict,\n",
    "              inplace=True)\n",
    "    \n",
    "    #drop the N/A & 0 columns\n",
    "    df = df.drop(columns=['Value B', 'Shares B', 'Unnamed: 24'])\n",
    "    df['Date'] = pd.to_datetime(df['Date'])\n",
    "    #make Date the index\n",
    "    df = df.set_index('Date')\n",
    "    #Drop the occasional N/A s\n",
    "    df = df.dropna(subset=['Volume', 'Volume In Price', 'Avg Price', 'Turnover Rate'])\n",
    "    \n",
    "    #print the name/code of the stock\n",
    "    print(\"What it is: \")\n",
    "    print(df['Code'][0], df['Name'][0])\n",
    "    print(\"\\n\")\n",
    "    \n",
    "    #we do not need them anymore\n",
    "    df = df.drop(columns=['Code', 'Name']) \n",
    "    return df\n",
    "    \n",
    "    \n",
    "#view the data\n",
    "def viewing(df, view_header=False, view_info=False, view_stat=False, view_hist=False, view_corr=False):\n",
    "    if view_header:\n",
    "        print(df.head())\n",
    "        print(\"\\n\")\n",
    "    if view_info:\n",
    "        print(df.info())\n",
    "        print(\"\\n\")\n",
    "    if view_stat:\n",
    "        print(df.describe())\n",
    "        print(\"\\n\")\n",
    "    if view_hist:\n",
    "        df.hist(bins=50, figsize=(20,15))\n",
    "        plt.show()\n",
    "        print(\"\\n\")\n",
    "    if view_corr:\n",
    "        corr_matrix = df.corr()\n",
    "        print(corr_matrix['Close'].sort_values(ascending=False))"
   ]
  },
  {
   "cell_type": "code",
   "execution_count": 4,
   "id": "b1d1e9d5",
   "metadata": {
    "scrolled": true
   },
   "outputs": [
    {
     "name": "stdout",
     "output_type": "stream",
     "text": [
      "What it is: \n",
      "600070.SH 浙江富润\n",
      "\n",
      "\n",
      "            Forward_Close    Open    High     Low   Close      Volume  \\\n",
      "Date                                                                    \n",
      "1997-06-04            NaN  1.9282  2.0689  1.9073  1.9438  15566900.0   \n",
      "1997-06-05         1.9438  1.7718  1.8344  1.7499  1.7499   1370700.0   \n",
      "1997-06-06         1.7499  1.5748  1.5748  1.5748  1.5748    306400.0   \n",
      "1997-06-09         1.5748  1.4175  1.5217  1.4175  1.4717   3727200.0   \n",
      "1997-06-10         1.4717  1.4592  1.4633  1.3247  1.3247   1897800.0   \n",
      "\n",
      "            Volume In Price  Change In Price   Change  Avg Price  \\\n",
      "Date                                                               \n",
      "1997-06-04      297031218.0              NaN      NaN    19.0809   \n",
      "1997-06-05       23127388.0          -0.1939  -9.9732    16.8727   \n",
      "1997-06-06        4629704.0          -0.1751 -10.0060    15.1100   \n",
      "1997-06-09       51987055.0          -0.1032  -6.5520    13.9480   \n",
      "1997-06-10       25170218.0          -0.1470  -9.9858    13.2628   \n",
      "\n",
      "            Turnover Rate      Value A     Tol Value  Shares A  Tol Shares  \\\n",
      "Date                                                                         \n",
      "1997-06-04        86.4828  335700000.0  1.044400e+09  18000000    56000000   \n",
      "1997-06-05         7.6150  302220000.0  9.402400e+08  18000000    56000000   \n",
      "1997-06-06         1.7022  271980000.0  8.461600e+08  18000000    56000000   \n",
      "1997-06-09        20.7067  254160000.0  7.907200e+08  18000000    56000000   \n",
      "1997-06-10        10.5433  228780000.0  7.117600e+08  18000000    56000000   \n",
      "\n",
      "            P/E Ratio  P/B Ratio  P/S Ratio  P/CF Ratio  \n",
      "Date                                                     \n",
      "1997-06-04    63.2367    18.9530    15.6638         NaN  \n",
      "1997-06-05    56.9300    17.0628    14.1016         NaN  \n",
      "1997-06-06    51.2336    15.3555    12.6906         NaN  \n",
      "1997-06-09    47.8768    14.3494    11.8591         NaN  \n",
      "1997-06-10    43.0959    12.9165    10.6749         NaN  \n",
      "\n",
      "\n"
     ]
    },
    {
     "data": {
      "text/plain": [
       "(4452, 19)"
      ]
     },
     "execution_count": 4,
     "metadata": {},
     "output_type": "execute_result"
    }
   ],
   "source": [
    "#----------------------------- call the functions -----------------------------\n",
    "\n",
    "df = load_data()\n",
    "df = altering(df)\n",
    "viewing(df,1,0,0,0,0) #header, info, stat, hist ¶ corr\n",
    "df.shape"
   ]
  },
  {
   "cell_type": "code",
   "execution_count": 5,
   "id": "3f60e0d8",
   "metadata": {},
   "outputs": [],
   "source": [
    "#----------------------------- Split & normalize the data -----------------------------\n",
    "#only care about 'Close' and 'Volume'\n",
    "df = df[['Close', 'Volume']]\n",
    "#split the data\n",
    "column_indices = {name:index for index,name in enumerate(df.columns)}\n",
    "train_data = df[:int(len(df)*0.8)]\n",
    "test_data = df[int(len(df)*0.8):]\n",
    "num_features = df.shape[1]\n",
    "\n",
    "#normalization\n",
    "train_data =(train_data-train_data.min())/(train_data.max()-train_data.min())\n",
    "\n",
    "test_data =(test_data-test_data.min())/(test_data.max()-test_data.min())\n"
   ]
  },
  {
   "cell_type": "code",
   "execution_count": 6,
   "id": "d6a42f94",
   "metadata": {},
   "outputs": [
    {
     "data": {
      "text/html": [
       "<div>\n",
       "<style scoped>\n",
       "    .dataframe tbody tr th:only-of-type {\n",
       "        vertical-align: middle;\n",
       "    }\n",
       "\n",
       "    .dataframe tbody tr th {\n",
       "        vertical-align: top;\n",
       "    }\n",
       "\n",
       "    .dataframe thead th {\n",
       "        text-align: right;\n",
       "    }\n",
       "</style>\n",
       "<table border=\"1\" class=\"dataframe\">\n",
       "  <thead>\n",
       "    <tr style=\"text-align: right;\">\n",
       "      <th></th>\n",
       "      <th>Close</th>\n",
       "      <th>Volume</th>\n",
       "    </tr>\n",
       "    <tr>\n",
       "      <th>Date</th>\n",
       "      <th></th>\n",
       "      <th></th>\n",
       "    </tr>\n",
       "  </thead>\n",
       "  <tbody>\n",
       "    <tr>\n",
       "      <th>1997-06-04</th>\n",
       "      <td>0.302471</td>\n",
       "      <td>0.407646</td>\n",
       "    </tr>\n",
       "    <tr>\n",
       "      <th>1997-06-05</th>\n",
       "      <td>0.258427</td>\n",
       "      <td>0.035784</td>\n",
       "    </tr>\n",
       "    <tr>\n",
       "      <th>1997-06-06</th>\n",
       "      <td>0.218653</td>\n",
       "      <td>0.007905</td>\n",
       "    </tr>\n",
       "    <tr>\n",
       "      <th>1997-06-09</th>\n",
       "      <td>0.195234</td>\n",
       "      <td>0.097511</td>\n",
       "    </tr>\n",
       "    <tr>\n",
       "      <th>1997-06-10</th>\n",
       "      <td>0.161844</td>\n",
       "      <td>0.049591</td>\n",
       "    </tr>\n",
       "  </tbody>\n",
       "</table>\n",
       "</div>"
      ],
      "text/plain": [
       "               Close    Volume\n",
       "Date                          \n",
       "1997-06-04  0.302471  0.407646\n",
       "1997-06-05  0.258427  0.035784\n",
       "1997-06-06  0.218653  0.007905\n",
       "1997-06-09  0.195234  0.097511\n",
       "1997-06-10  0.161844  0.049591"
      ]
     },
     "execution_count": 6,
     "metadata": {},
     "output_type": "execute_result"
    }
   ],
   "source": [
    "train_data.head()"
   ]
  },
  {
   "cell_type": "code",
   "execution_count": 7,
   "id": "fb9306be",
   "metadata": {},
   "outputs": [
    {
     "data": {
      "image/png": "[encoded data removed]",
      "text/plain": [
       "<Figure size 720x360 with 1 Axes>"
      ]
     },
     "metadata": {
      "needs_background": "light"
     },
     "output_type": "display_data"
    },
    {
     "data": {
      "image/png": "[encoded data removed]",
      "text/plain": [
       "<Figure size 720x360 with 1 Axes>"
      ]
     },
     "metadata": {
      "needs_background": "light"
     },
     "output_type": "display_data"
    }
   ],
   "source": [
    "plt.figure(figsize=(10,5))\n",
    "plt.plot(train_data.loc[:,['Close']], color=\"blue\", label=f\"Actual company Price\");\n",
    "plt.figure(figsize=(10,5))\n",
    "# plt.plot(test_data.loc[:,['Close']], color=\"green\", label=f\"Actual company Price\");\n",
    "plt.plot(train_data.loc[:,['Volume']], color=\"green\", label=f\"Volume\");"
   ]
  },
  {
   "cell_type": "code",
   "execution_count": 8,
   "id": "a4172e41",
   "metadata": {
    "scrolled": true
   },
   "outputs": [
    {
     "data": {
      "text/plain": [
       "(3561, 2)"
      ]
     },
     "execution_count": 8,
     "metadata": {},
     "output_type": "execute_result"
    },
    {
     "data": {
      "text/plain": [
       "(891, 2)"
      ]
     },
     "execution_count": 8,
     "metadata": {},
     "output_type": "execute_result"
    }
   ],
   "source": [
    "train_data.shape\n",
    "test_data.shape"
   ]
  },
  {
   "cell_type": "markdown",
   "id": "f233e17b",
   "metadata": {},
   "source": [
    "<font size=\"9\">Transform Data (Through Window)</font>"
   ]
  },
  {
   "cell_type": "code",
   "execution_count": 9,
   "id": "f4624076",
   "metadata": {},
   "outputs": [],
   "source": [
    "class CreateWindow:\n",
    "    def __init__(self, input_width, label_width, shift, label_columns, train_df=train_data, test_df=test_data):\n",
    "        \n",
    "        self.input_width = input_width\n",
    "        self.label_width = label_width\n",
    "        self.shift = shift\n",
    "        self.label_columns = label_columns\n",
    "        self.train_df = train_df\n",
    "        self.test_df = test_df\n",
    "        \n",
    "        self.label_columns_indices = {name: i for i, name in enumerate(label_columns)}\n",
    "        self.column_indices = {name: i for i, name in enumerate(train_df.columns)}\n",
    "\n",
    "        self.total_window_size = input_width + shift\n",
    "\n",
    "        self.input_slice = slice(0, input_width)\n",
    "        self.input_indices = np.arange(self.total_window_size)[self.input_slice]\n",
    "\n",
    "        self.label_start = self.total_window_size - self.label_width\n",
    "        self.labels_slice = slice(self.label_start, None)\n",
    "        self.label_indices = np.arange(self.total_window_size)[self.labels_slice]\n",
    "\n",
    "    def __repr__(self):\n",
    "        return '\\n'.join([\n",
    "            f'Total window size: {self.total_window_size}',\n",
    "            f'Input indices: {self.input_indices}',\n",
    "            f'Label indices: {self.label_indices}',\n",
    "            f'Label column name(s): {self.label_columns}'])\n",
    "    \n",
    "    def split_window(self, features):\n",
    "        inputs = features[self.input_slice, :]\n",
    "        labels = features[self.labels_slice, :]\n",
    "        if self.label_columns is not None:\n",
    "            labels = tf.stack([labels[:, self.column_indices[name]] for name in self.label_columns], axis=-1)\n",
    "\n",
    "        return inputs, labels\n",
    "    \n",
    "    def get_tol_win_size(self):\n",
    "        return self.total_window_size"
   ]
  },
  {
   "cell_type": "markdown",
   "id": "ae9b586c",
   "metadata": {},
   "source": [
    "<font size=\"9\">------------------------------------</font>"
   ]
  },
  {
   "cell_type": "code",
   "execution_count": 10,
   "id": "4c803bca",
   "metadata": {},
   "outputs": [],
   "source": [
    "#----------------------------- hyperparameters -----------------------------\n",
    "epochs = 5     # how many times the model is going to see the full dataset\n",
    "gamma = 0.97     # discount rate: how important the immediate rewards are\n",
    "\n",
    "max_buffer_size = 150    # how big the replay buffer can be\n",
    "batch_size = 15          # the size of data being used in experience replay\n",
    "\n",
    "input_width=10\n",
    "label_width=1\n",
    "shift=1\n",
    "jump = 10"
   ]
  },
  {
   "cell_type": "markdown",
   "id": "04dab7ba",
   "metadata": {},
   "source": [
    "<font size=\"9\">Policy & Target Network</font>"
   ]
  },
  {
   "cell_type": "code",
   "execution_count": 11,
   "id": "7864aae9",
   "metadata": {},
   "outputs": [],
   "source": [
    "# create policy & target network\n",
    "class Networks:\n",
    "    def __init__(self):\n",
    "        self.policy = self.create_policy()\n",
    "        self.target = self.create_target()\n",
    "    \n",
    "    def create_policy(self):\n",
    "        model = keras.models.Sequential([\n",
    "            keras.layers.SimpleRNN(20, return_sequences=True, input_shape=[None,2]),\n",
    "            keras.layers.SimpleRNN(20),\n",
    "            keras.layers.Dense(3)\n",
    "        ])\n",
    "        \n",
    "        model.compile(loss='mse',\n",
    "                      optimizer=tf.keras.optimizers.Adam(learning_rate=0.00001))\n",
    "        \n",
    "        return model\n",
    "        \n",
    "    def get_policy(self):\n",
    "        return self.policy\n",
    "    \n",
    "    def policy_feed_data(self, data):\n",
    "        return self.policy(data)\n",
    "\n",
    "    def create_target(self):\n",
    "        return keras.models.clone_model(self.policy)\n",
    "    \n",
    "    def get_target(self):\n",
    "        return self.target\n",
    "    \n",
    "    # target network's weights only updated once a certain times\n",
    "    def update_target_network(self):\n",
    "        self.target.set_weights(self.policy.get_weights())\n",
    "\n",
    "    "
   ]
  },
  {
   "cell_type": "code",
   "execution_count": 12,
   "id": "a9314feb",
   "metadata": {
    "scrolled": true
   },
   "outputs": [
    {
     "name": "stdout",
     "output_type": "stream",
     "text": [
      "Metal device set to: Apple M1\n"
     ]
    },
    {
     "name": "stderr",
     "output_type": "stream",
     "text": [
      "2022-06-12 21:22:14.378720: I tensorflow/core/common_runtime/pluggable_device/pluggable_device_factory.cc:305] Could not identify NUMA node of platform GPU ID 0, defaulting to 0. Your kernel may not have been built with NUMA support.\n",
      "2022-06-12 21:22:14.379018: I tensorflow/core/common_runtime/pluggable_device/pluggable_device_factory.cc:271] Created TensorFlow device (/job:localhost/replica:0/task:0/device:GPU:0 with 0 MB memory) -> physical PluggableDevice (device: 0, name: METAL, pci bus id: <undefined>)\n"
     ]
    }
   ],
   "source": [
    "models = Networks()"
   ]
  },
  {
   "cell_type": "markdown",
   "id": "2a7bb32c",
   "metadata": {},
   "source": [
    "<font size=\"9\">E&nbsp;N&nbsp;V&nbsp;I&nbsp;R&nbsp;O&nbsp;N&nbsp;M&nbsp;E&nbsp;N&nbsp;T</font>"
   ]
  },
  {
   "cell_type": "code",
   "execution_count": 13,
   "id": "1b5d9f6e",
   "metadata": {},
   "outputs": [],
   "source": [
    "# environment, can output state and reward.\n",
    "class Environment:\n",
    "    def __init__(self, option):\n",
    "        if option == 1:\n",
    "            self.data = train_data\n",
    "        elif option == 2:\n",
    "            self.data = test_data\n",
    "            \n",
    "    def get_state(self, timesteps, jump, window):\n",
    "        raw_data = self.data[timesteps*jump : timesteps*jump + window.get_tol_win_size()]\n",
    "        diffed_data = np.array(raw_data.diff().fillna(0.0))\n",
    "        \n",
    "        return window.split_window(diffed_data), window.split_window(np.array(raw_data))\n",
    "        \n",
    "    def get_reward(self, action, state):\n",
    "        coef = 100\n",
    "        \n",
    "        diff_amt = state[1][0]-state[0][-1][0]\n",
    "        diff_sign = np.sign(diff_amt)\n",
    "       \n",
    "        if abs(diff_amt) <= 0.0001:  \n",
    "            if action == 0:\n",
    "                reward = 1\n",
    "            else:\n",
    "                reward = 0\n",
    "        else:\n",
    "            if action != 0:\n",
    "                reward = diff_sign * action * coef\n",
    "            else:\n",
    "                reward = -0.01\n",
    "          \n",
    "        return reward\n",
    "        "
   ]
  },
  {
   "cell_type": "markdown",
   "id": "a01292bf",
   "metadata": {},
   "source": [
    "<font size=\"9\">A&nbsp;G&nbsp;E&nbsp;N&nbsp;T</font>"
   ]
  },
  {
   "cell_type": "code",
   "execution_count": 14,
   "id": "18c5bfee",
   "metadata": {},
   "outputs": [],
   "source": [
    "# agent, can act\n",
    "class Agent:\n",
    "    def __init__(self):\n",
    "        self.actions = [-1, 0, 1]\n",
    "        \n",
    "    def epsilon_greedy_policy(self, state, epsilon, models):\n",
    "        if np.random.rand() < epsilon:\n",
    "            return np.random.randint(low=-1, high=2)\n",
    "        else:\n",
    "            Q = models.get_policy().predict(np.expand_dims(state,0))\n",
    "            return self.actions[np.argmax(Q[0])] \n",
    "\n",
    "            "
   ]
  },
  {
   "cell_type": "markdown",
   "id": "29b7abd6",
   "metadata": {},
   "source": [
    "<font size=\"9\">Experience Replay</font>"
   ]
  },
  {
   "cell_type": "code",
   "execution_count": 15,
   "id": "4c382bf7",
   "metadata": {},
   "outputs": [],
   "source": [
    "# train the policy network, using experience replay.\n",
    "class Replay:\n",
    "    def __init__(self, max_buffer_size):\n",
    "        self.replay_buffer = collections.deque(maxlen=max_buffer_size)\n",
    "        \n",
    "    def get_len(self):\n",
    "        return len(self.replay_buffer)\n",
    "        \n",
    "    def sample_experiences(self, batch_size):\n",
    "        indices = np.random.randint(len(self.replay_buffer), size = batch_size)\n",
    "        batch = [self.replay_buffer[index] for index in indices]\n",
    "        \n",
    "        state, action, reward, state_next, last_step = [\n",
    "            np.array([experience[field_index] for experience in batch]) for field_index in range(5)\n",
    "        ]\n",
    "        \n",
    "        return state, action, reward, state_next, last_step\n",
    "    \n",
    "    def store_experiences(self, state, action, reward, state_next, last_step):\n",
    "        self.replay_buffer.append((state, action, reward, state_next, last_step))\n",
    "        \n",
    "    def exprience_replay(self, gamma, batch_size, samples, models):\n",
    "        rSell = []\n",
    "        rHold = []\n",
    "        rBuy = []\n",
    "        \n",
    "        action_space = [-1, 0, 1]\n",
    "        state_, action_, reward_, state_next_, last_step_ = samples\n",
    "        for i in range(batch_size):\n",
    "            state, action, reward, state_next, last_step = state_[i], \\\n",
    "                                    action_[i], reward_[i], state_next_[i], last_step_[i]      \n",
    "            \n",
    "            if action == -1:\n",
    "                rSell.append(reward)\n",
    "            elif action == 0:\n",
    "                rHold.append(reward)\n",
    "            if action == 1:\n",
    "                rBuy.append(reward)\n",
    "            \n",
    "            # get target Q according to the Bellman equation\n",
    "            Q_prime = models.get_target().predict(np.expand_dims(state_next,0))\n",
    "            opt_Q_prime = np.max(Q_prime, axis=1) \n",
    "            targetQ = reward + (1 - last_step) * gamma * opt_Q_prime\n",
    "            # get Q\n",
    "            Q = models.get_policy()(np.expand_dims(state,0))\n",
    "            # modify Q to approximate the target1\n",
    "            newQ = Q.numpy()\n",
    "            for index, ele in enumerate(targetQ):\n",
    "                newQ[index][action_space.index(action)] = ele\n",
    "            newQ = tf.convert_to_tensor(newQ)\n",
    "            \n",
    "            if i == 0:\n",
    "                X = np.asarray(state)\n",
    "                Y = np.asarray(newQ)\n",
    "                X = np.expand_dims(X, axis=0)\n",
    "                Y = np.expand_dims(Y, axis=0)\n",
    "            else:\n",
    "                state = np.expand_dims(state, axis=0)\n",
    "                newQ = np.expand_dims(newQ, axis=0)\n",
    "                X = np.append(X, state, axis=0)\n",
    "                Y = np.append(Y, newQ, axis=0)\n",
    "        \n",
    "#         print(len(rSell), len(rHold), len(rBuy), \" Sell: \", np.mean(rSell), \" Hold: \", np.mean(rHold), \" Buy: \", np.mean(rBuy))\n",
    "#         print(\"Q' : \",Q_prime)\n",
    "#         print(\"opQ' : \",opt_Q_prime)\n",
    "#         print(\"targetQ: \",targetQ)\n",
    "#         print(\"Q: \",Q)\n",
    "#         print(\"newQ: \",newQ)\n",
    "        \n",
    "              \n",
    "        models.get_policy().fit(X, Y, epochs=1, batch_size=batch_size, verbose=0)\n",
    "        \n",
    "            \n",
    "    def train_models(self, gamma, batch_size, models):\n",
    "        samples = self.sample_experiences(batch_size)\n",
    "        self.exprience_replay(gamma, batch_size, samples, models)"
   ]
  },
  {
   "cell_type": "markdown",
   "id": "d0a222a2",
   "metadata": {},
   "source": [
    "<font size=\"9\">Main Loop (Train The Models)</font>\n"
   ]
  },
  {
   "cell_type": "code",
   "execution_count": 16,
   "id": "aaaedb5f",
   "metadata": {},
   "outputs": [],
   "source": [
    "#initalize environment, agent & replay memory\n",
    "environment = Environment(1)\n",
    "agent = Agent()\n",
    "\n",
    "rep_buffer = Replay(max_buffer_size)\n",
    "\n",
    "window = CreateWindow(input_width=input_width, label_width=label_width,\\\n",
    "                      shift=shift, label_columns=['Close'])"
   ]
  },
  {
   "cell_type": "code",
   "execution_count": 19,
   "id": "d1d3d079",
   "metadata": {
    "scrolled": true
   },
   "outputs": [
    {
     "name": "stdout",
     "output_type": "stream",
     "text": [
      "(array([[0.30247138, 0.40764555],\n",
      "       [0.25842722, 0.03578421],\n",
      "       [0.21865346, 0.00790548],\n",
      "       [0.19523442, 0.09751138],\n",
      "       [0.16184354, 0.04959129],\n",
      "       [0.18337725, 0.06732754],\n",
      "       [0.16870343, 0.03079417],\n",
      "       [0.1710885 , 0.03414182],\n",
      "       [0.17131565, 0.03837222],\n",
      "       [0.15686898, 0.02131179]]), <tf.Tensor: shape=(1, 1), dtype=float64, numpy=array([[0.14691986]])>)\n"
     ]
    }
   ],
   "source": [
    "print(environment.get_state(0,10,window)[1])"
   ]
  },
  {
   "cell_type": "code",
   "execution_count": 18,
   "id": "94dc654e",
   "metadata": {
    "scrolled": true
   },
   "outputs": [
    {
     "name": "stdout",
     "output_type": "stream",
     "text": [
      "epo: 0, timesteps: 0\n"
     ]
    },
    {
     "name": "stderr",
     "output_type": "stream",
     "text": [
      "/var/folders/p7/m0xl9lb16f187dq42tn3pw7h0000gn/T/ipykernel_48925/353405378.py:14: VisibleDeprecationWarning: Creating an ndarray from ragged nested sequences (which is a list-or-tuple of lists-or-tuples-or ndarrays with different lengths or shapes) is deprecated. If you meant to do this, you must specify 'dtype=object' when creating the ndarray\n",
      "  np.array([experience[field_index] for experience in batch]) for field_index in range(5)\n",
      "2022-05-31 19:59:51.175985: I tensorflow/core/grappler/optimizers/custom_graph_optimizer_registry.cc:112] Plugin optimizer for device_type GPU is enabled.\n",
      "2022-05-31 19:59:52.289364: I tensorflow/core/grappler/optimizers/custom_graph_optimizer_registry.cc:112] Plugin optimizer for device_type GPU is enabled.\n"
     ]
    },
    {
     "name": "stdout",
     "output_type": "stream",
     "text": [
      "epo: 0, timesteps: 100\n",
      "Epoch 0 --------- mean reward:  [4.51081081]\n",
      "+++++Detailed Mean+++++++ 16.6667 0.0226 -5.2632\n",
      "[1, -1, 0, 0, 0, 0, -1, 0, 1, -1, 0, -1, 1, 0, -1, -1, -1, 1, 1, -1, 0, -1, 0, 1, 1, 1, 1, 0, 1, -1, 1, -1, 1, 0, -1, -1, 1, 1, 1, 0, 1, -1, 0, -1, 1, -1, -1, 1, 0, -1, 0, -1, 1, 1, -1, 0, -1, -1, 0, 0, -1, -1, 0, 1, 1, -1, 1, -1, 0, -1, -1, -1, 0, -1, 0, 1, 0, 0, 1, -1, -1, 1, 0, 0, 1, 1, 1, 1, 0, 1, 0, 1, 1, -1, -1, 1, -1, 1, -1, 1, 0, -1, -1, 1, 0, -1, 0, 1, -1, -1, -1]\n",
      "epo: 1, timesteps: 0\n",
      "epo: 1, timesteps: 100\n",
      "Epoch 1 --------- mean reward:  [5.40153153]\n",
      "+++++Detailed Mean+++++++ 16.6667 -0.01 -3.8462\n",
      "[-1, -1, -1, 0, 0, -1, 1, -1, 0, 1, 1, -1, -1, -1, 0, 0, 1, 1, 0, -1, 1, -1, -1, 0, -1, 1, 0, 0, 0, 1, 1, 0, 0, 0, 0, 1, 0, 1, 0, 0, 0, -1, -1, -1, 0, 0, -1, 1, -1, 1, 0, 0, 1, -1, -1, 0, 0, -1, 0, 0, -1, 0, 0, 1, -1, -1, 0, -1, 0, -1, -1, -1, -1, 0, 0, 0, -1, 0, 1, -1, -1, 0, 0, 0, 1, 1, 0, 1, -1, 1, 0, 0, 1, -1, -1, 1, 0, 1, -1, 1, 0, -1, -1, 1, -1, -1, 0, 1, -1, -1, -1]\n",
      "epo: 2, timesteps: 0\n",
      "epo: 2, timesteps: 100\n",
      "Epoch 2 --------- mean reward:  [9.01540541]\n",
      "+++++Detailed Mean+++++++ 29.7872 0.0237 -11.7647\n",
      "[0, 0, 0, 0, 1, -1, 0, -1, 1, 1, -1, -1, 0, 1, 1, -1, 1, 1, 1, 1, 0, -1, -1, 0, 1, -1, 1, -1, 1, 1, 1, -1, 0, -1, 0, 0, 1, 0, 0, 1, 1, 1, -1, 0, -1, 1, -1, 1, 0, -1, 0, -1, 1, 1, -1, -1, 0, -1, -1, 0, -1, 0, 0, -1, -1, -1, 1, -1, 0, -1, -1, -1, 0, -1, 1, -1, 0, 0, 1, -1, 1, -1, 0, 0, -1, 1, 0, 1, -1, 1, 0, -1, -1, -1, -1, -1, -1, 1, -1, 1, -1, -1, 1, 1, 0, -1, 0, 1, -1, -1, -1]\n",
      "epo: 3, timesteps: 0\n",
      "epo: 3, timesteps: 100\n",
      "Epoch 3 --------- mean reward:  [3.60081081]\n",
      "+++++Detailed Mean+++++++ 18.5185 -0.01 -23.0769\n",
      "[1, -1, 0, 0, 0, 0, -1, -1, 0, -1, 1, 0, -1, 1, 1, 0, 0, 1, -1, 1, 0, 0, 0, -1, -1, -1, 0, -1, 0, -1, 1, -1, -1, 0, 0, 1, 1, 1, 1, -1, -1, -1, -1, 0, -1, 0, -1, -1, 1, -1, 0, -1, 1, 0, -1, -1, -1, -1, 0, 0, -1, -1, -1, 0, -1, -1, 0, -1, 0, -1, 0, -1, 1, -1, -1, 1, -1, 0, 1, -1, -1, 1, 0, 0, -1, 1, 0, -1, 1, -1, -1, -1, -1, 1, -1, 1, -1, 1, -1, 1, -1, -1, -1, 1, 0, -1, 0, 1, -1, -1, 1]\n",
      "epo: 4, timesteps: 0\n",
      "epo: 4, timesteps: 100\n",
      "Epoch 4 --------- mean reward:  [6.32252252]\n",
      "+++++Detailed Mean+++++++ 11.4754 0.0818 0.0\n",
      "[-1, -1, 1, 0, -1, 0, 1, 0, -1, -1, 1, -1, -1, -1, -1, -1, 1, -1, -1, -1, 0, 0, 1, -1, -1, 1, -1, -1, 1, -1, 1, -1, 1, 0, -1, -1, 1, 0, 0, 1, 0, -1, 0, 1, -1, -1, 0, 1, 1, -1, 0, 0, -1, 0, -1, -1, -1, 0, -1, 0, 1, -1, -1, -1, 0, 1, 1, 0, -1, -1, -1, -1, -1, -1, 1, 1, 0, 0, 1, -1, -1, -1, 0, -1, -1, 1, -1, 1, -1, -1, -1, -1, -1, -1, -1, 1, -1, 1, -1, 1, 1, -1, -1, 1, 0, -1, -1, 1, -1, -1, -1]\n"
     ]
    }
   ],
   "source": [
    "# ----------------------------- the main loop -----------------------------\n",
    "\n",
    "for epo in range(epochs):     # for every time the model is going to see the whole data \n",
    "    reward_list = []\n",
    "    action_list = []\n",
    "    \n",
    "    a = []\n",
    "    b = []\n",
    "    c = []\n",
    "    \n",
    "    last_step = 0\n",
    "    for timesteps in range((len(train_data) - window.get_tol_win_size())// jump):  \n",
    "        epsilon = max(1 - timesteps / ((len(train_data) - window.get_tol_win_size())// jump)*0.99, 0.01)\n",
    "        # get state, action, reward and state_next, and store them to the replay buffer\n",
    "        state = environment.get_state(timesteps, jump, window)[0][0]\n",
    "        state_inc_label = environment.get_state(timesteps, jump, window)\n",
    "        action = agent.epsilon_greedy_policy(state, epsilon, models)\n",
    "        reward = environment.get_reward(action, state_inc_label[1])\n",
    "        \n",
    "        reward_list.append(reward)\n",
    "        action_list.append(action)\n",
    "        \n",
    "        if action == -1:\n",
    "            a.append(round(float(reward),4))\n",
    "        elif action == 0:\n",
    "            b.append(round(float(reward),4))\n",
    "        elif action == 1:\n",
    "            c.append(round(float(reward),4))\n",
    "        \n",
    "        state_next = environment.get_state(timesteps + 1, jump, window)[0][0]\n",
    "        # reachs the end of the data, last_step = 1, also stored in the buffer\n",
    "        if timesteps == (len(train_data) - window.get_tol_win_size())// jump:\n",
    "            last_step = 1\n",
    "        # store five parameters\n",
    "        rep_buffer.store_experiences(state, action, reward, state_next, last_step)\n",
    "        \n",
    "        # if the buffer has stored enough experiences, then begin to train the mdoels.    \n",
    "        if rep_buffer.get_len() >= batch_size*2:\n",
    "            rep_buffer.train_models(gamma, batch_size, models)\n",
    "        # update the target network's weights.\n",
    "        if timesteps % 50 == 0:\n",
    "            models.update_target_network()\n",
    "        if timesteps % 100 == 0:\n",
    "            print(\"epo: \"+str(epo)+\", timesteps: \"+ str(timesteps))\n",
    "    \n",
    "            \n",
    "    print('Epoch', epo, '---------', 'mean reward: ', np.mean(reward_list))\n",
    "    print(\"+++++Detailed Mean+++++++\", round(np.mean(a),4), round(np.mean(b),4), round(np.mean(c),4))\n",
    "    print(action_list)\n",
    "\n",
    "    reward_list.clear()\n",
    "    a.clear()\n",
    "    b.clear()\n",
    "    c.clear()\n",
    "    "
   ]
  },
  {
   "cell_type": "markdown",
   "id": "e4f26db4",
   "metadata": {},
   "source": [
    "<font size=\"9\">Evaluate The Models</font>\n"
   ]
  },
  {
   "cell_type": "code",
   "execution_count": 36,
   "id": "719e15c4",
   "metadata": {
    "scrolled": false
   },
   "outputs": [
    {
     "data": {
      "image/png": "[encoded data removed]",
      "text/plain": [
       "<Figure size 1440x720 with 1 Axes>"
      ]
     },
     "metadata": {
      "needs_background": "light"
     },
     "output_type": "display_data"
    },
    {
     "name": "stdout",
     "output_type": "stream",
     "text": [
      "[4.78156997]\n",
      "[1, 1, 1, 0, 1, 1, 1, -1, 0, 1, 0, -1, -1, 0, 1, 1, -1, -1, 0, -1, 1, -1, 0, -1, 0, -1, 0, 1, 1, 1, 1, 1, -1, 0, -1, 0, -1, 0, -1, 0, 1, 1, 0, 1, 0, 1, 1, -1, 0, 1, 0, 1, -1, 0, 0, 0, 1, -1, -1, 0, -1, 0, 1, 0, 1, 1, -1, 0, 1, 1, -1, 1, -1, 0, 0, 1, 1, 0, 1, 1, -1, -1, -1, 0, 0, 1, 1, 1, -1, 0, 1, -1, 0, 1, 1, -1, 0, 1, 1, 0, 1, -1, 0, -1, -1, 0, 1, -1, -1, 0, 1, 0, -1, 0, 1, 0, 1, -1, 0, -1, 0, 1, -1, 0, 1, 0, 1, 0, 1, 0, 1, 0, 1, -1, 1, 1, 0, 1, -1, -1, 1, -1, 0, 0, -1, 0, 1, -1, 0, 1, 1, 0, 0, -1, 0, 1, -1, 0, -1, 0, -1, 0, -1, 0, 1, -1, 0, 1, -1, 0, 1, 1, -1, -1, 0, 1, 0, 1, 1, -1, 0, 1, 1, -1, 0, 1, -1, 0, 1, 0, 0, 1, -1, 0, 0, -1, 0, 1, 0, -1, 1, -1, 0, -1, 0, 1, -1, 0, 0, -1, 0, 1, -1, 1, -1, 0, 1, -1, -1, 1, -1, 0, -1, 1, -1, 0, 1, 1, -1, 0, 0, 0, 1, 1, 1, -1, 0, 1, -1, -1, 0, 1, -1, 0, -1, 0, 1, 1, -1, 0, -1, -1, 0, 1, 0, 1, 0, -1, -1, -1, 0, 1, -1, 0, 1, 1, 1, -1, 0, -1, 0, 1, 0, -1, 0, 1, -1, -1, 0, 1, -1, -1, 0, -1, 0, 1, 0, -1, 0, 1, -1, 0, 0]\n"
     ]
    }
   ],
   "source": [
    "jump2 = 3\n",
    "actions = [-1, 0, 1]\n",
    "environment2 = Environment(2)\n",
    "window2 = CreateWindow(input_width=10, label_width=1,\\\n",
    "                      shift=1, label_columns=['Close'])\n",
    "# visualize\n",
    "plt.figure(figsize=(20,10))\n",
    "plt.plot(test_data.loc[:,['Close']], color=\"black\", label=f\"Price normalized\");\n",
    "\n",
    "action_list = []\n",
    "reward_list = []\n",
    "for i in range((len(test_data) - window2.get_tol_win_size())// jump2): \n",
    "    state = environment2.get_state(i, jump2, window2)[0][0]\n",
    "    action = agent.epsilon_greedy_policy(state, 0, models)\n",
    "    reward_list.append(environment2.get_reward(action, environment2.get_state(i, jump2, window2)[1]))\n",
    "    action_list.append(action)\n",
    "\n",
    "for x,action in enumerate(action_list):\n",
    "    if action == 1:\n",
    "        plt.scatter(test_data.index[x*jump2 + window2.get_tol_win_size() - jump2],\\\n",
    "                    test_data.loc[:,['Close']].iloc[x*jump2 + window2.get_tol_win_size() - jump2], color = 'green');\n",
    "    elif action == -1:\n",
    "        plt.scatter(test_data.index[x*jump2 + window2.get_tol_win_size() - jump2],\\\n",
    "                    test_data.loc[:,['Close']].iloc[x*jump2 + window2.get_tol_win_size() - jump2], color = 'red');\n",
    "    else:\n",
    "        pass\n",
    "\n",
    "\n",
    "plt.title(f\" 600070.SH\");\n",
    "plt.xlabel(\"Time\");\n",
    "plt.ylabel(f\"Price normalized\");\n",
    "plt.legend();\n",
    "plt.show();\n",
    "print(np.mean(reward_list));\n",
    "print(action_list);\n"
   ]
  },
  {
   "cell_type": "code",
   "execution_count": null,
   "id": "e655baef",
   "metadata": {},
   "outputs": [],
   "source": [
    "history"
   ]
  }
 ],
 "metadata": {
  "kernelspec": {
   "display_name": "Python 3.9 (tensorflow)",
   "language": "python",
   "name": "tensorflow"
  },
  "language_info": {
   "codemirror_mode": {
    "name": "ipython",
    "version": 3
   },
   "file_extension": ".py",
   "mimetype": "text/x-python",
   "name": "python",
   "nbconvert_exporter": "python",
   "pygments_lexer": "ipython3",
   "version": "3.9.7"
  }
 },
 "nbformat": 4,
 "nbformat_minor": 5
}
